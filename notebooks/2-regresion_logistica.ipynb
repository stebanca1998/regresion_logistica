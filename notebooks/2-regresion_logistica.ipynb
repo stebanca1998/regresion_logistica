{
 "cells": [
  {
   "cell_type": "markdown",
   "id": "5b362c24",
   "metadata": {},
   "source": [
    "## Regresion Logistica Binomial"
   ]
  },
  {
   "cell_type": "markdown",
   "id": "dca96ff2",
   "metadata": {},
   "source": [
    "### Carga de datos"
   ]
  },
  {
   "cell_type": "code",
   "execution_count": 1,
   "id": "2de4d479",
   "metadata": {},
   "outputs": [],
   "source": [
    "import pandas as pd"
   ]
  },
  {
   "cell_type": "code",
   "execution_count": 2,
   "id": "f596c9c5",
   "metadata": {},
   "outputs": [],
   "source": [
    "df_data_processing = pd.read_csv('../data/processed/Telco-Customer-Churn_processed.csv')"
   ]
  },
  {
   "cell_type": "markdown",
   "id": "b630b0dd",
   "metadata": {},
   "source": [
    "### Escalar los datos"
   ]
  },
  {
   "cell_type": "code",
   "execution_count": 4,
   "id": "d45aa0b9",
   "metadata": {},
   "outputs": [],
   "source": [
    "from sklearn.preprocessing import MinMaxScaler"
   ]
  },
  {
   "cell_type": "code",
   "execution_count": 5,
   "id": "d9152625",
   "metadata": {},
   "outputs": [],
   "source": [
    "scaler = MinMaxScaler()\n",
    "df_data_processing_scaled = scaler.fit_transform(df_data_processing) \n",
    "df_data_processing_scaled = pd.DataFrame(df_data_processing_scaled, columns=df_data_processing.columns)"
   ]
  },
  {
   "cell_type": "markdown",
   "id": "0145bf79",
   "metadata": {},
   "source": [
    "### Entrenamiento del modelo de regresión logística binomial"
   ]
  },
  {
   "cell_type": "code",
   "execution_count": 6,
   "id": "2f27aad8",
   "metadata": {},
   "outputs": [],
   "source": [
    "X = df_data_processing_scaled.drop('Churn',axis=1)\n",
    "y = df_data_processing_scaled['Churn'].values"
   ]
  },
  {
   "cell_type": "code",
   "execution_count": 7,
   "id": "52e4a939",
   "metadata": {},
   "outputs": [],
   "source": [
    "from sklearn.model_selection import train_test_split\n",
    "X_train, X_test, y_train, y_test = train_test_split(X,y, test_size=0.3, random_state=42)"
   ]
  },
  {
   "cell_type": "code",
   "execution_count": 8,
   "id": "8a08a3b4",
   "metadata": {},
   "outputs": [],
   "source": [
    "from sklearn.linear_model import LogisticRegression\n",
    "model = LogisticRegression()\n",
    "result = model.fit(X_train, y_train)"
   ]
  },
  {
   "cell_type": "code",
   "execution_count": 9,
   "id": "93d7e835",
   "metadata": {},
   "outputs": [
    {
     "name": "stdout",
     "output_type": "stream",
     "text": [
      "0.795260663507109\n"
     ]
    }
   ],
   "source": [
    "from sklearn import metrics\n",
    "prediction_test = model.predict(X_test)\n",
    "print(metrics.accuracy_score(y_test,prediction_test ))"
   ]
  }
 ],
 "metadata": {
  "kernelspec": {
   "display_name": "regresion_logistica",
   "language": "python",
   "name": "python3"
  },
  "language_info": {
   "codemirror_mode": {
    "name": "ipython",
    "version": 3
   },
   "file_extension": ".py",
   "mimetype": "text/x-python",
   "name": "python",
   "nbconvert_exporter": "python",
   "pygments_lexer": "ipython3",
   "version": "3.12.11"
  }
 },
 "nbformat": 4,
 "nbformat_minor": 5
}
